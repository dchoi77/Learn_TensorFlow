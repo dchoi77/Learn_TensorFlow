{
 "cells": [
  {
   "cell_type": "markdown",
   "metadata": {},
   "source": [
    "# tfp.distributions"
   ]
  },
  {
   "cell_type": "markdown",
   "metadata": {},
   "source": [
    "## tfd.Normal"
   ]
  },
  {
   "cell_type": "code",
   "execution_count": 3,
   "metadata": {},
   "outputs": [
    {
     "name": "stdout",
     "output_type": "stream",
     "text": [
      "two samples: [4.6266284 2.802314 ]\n",
      "prob: [0.13114657 0.13298075 0.11107485]\n",
      "log_prob: [-2.0314398 -2.017551  -2.197551 ]\n",
      "cdf: [0.43381616 0.5        0.72574687]\n"
     ]
    }
   ],
   "source": [
    "import tensorflow_probability as tfp\n",
    "\n",
    "tfd = tfp.distributions\n",
    "dist = tfd.Normal(loc=1, scale=3)\n",
    "\n",
    "x = [0.5, 1., 2.8]\n",
    "print('two samples:', dist.sample(2).numpy())\n",
    "print('prob:', dist.prob(x).numpy()) \n",
    "print('log_prob:', dist.log_prob(x).numpy())\n",
    "print('cdf:', dist.cdf(x).numpy())"
   ]
  },
  {
   "cell_type": "markdown",
   "metadata": {},
   "source": [
    "## tfd.Deterministic\n",
    "\n",
    "* pmf(x; loc) = 1, if x == loc, else 0 \n",
    "* cdf(x; loc) = 1, if x >= loc, else 0 "
   ]
  },
  {
   "cell_type": "code",
   "execution_count": 5,
   "metadata": {},
   "outputs": [
    {
     "name": "stdout",
     "output_type": "stream",
     "text": [
      "1.0 0.0\n"
     ]
    }
   ],
   "source": [
    "constant = tfd.Deterministic(0.)\n",
    "    # const.prob(x) is 1 if x is 0\n",
    "    # const.prob(x) is 0 otherwise\n",
    "print(constant.prob(0.).numpy(), constant.prob(2.).numpy())"
   ]
  },
  {
   "cell_type": "code",
   "execution_count": 6,
   "metadata": {},
   "outputs": [
    {
     "data": {
      "text/plain": [
       "<tf.Tensor: shape=(2, 2), dtype=float32, numpy=\n",
       "array([[1., 0.],\n",
       "       [0., 1.]], dtype=float32)>"
      ]
     },
     "execution_count": 6,
     "metadata": {},
     "output_type": "execute_result"
    }
   ],
   "source": [
    "loc = [[0., 1.], [2., 3.]] \n",
    "x = [[0., 1.1], [1.99, 3.]] \n",
    "constant = tfd.Deterministic(loc)\n",
    "    # tfd.Deterministic(loc) is equal to \n",
    "    # [[tfd.Deterministic(loc[0,0]), tfd.Deterministic(loc[0,1])],\n",
    "    #  [tfd.Deterministic(loc[1,0]), tfd.Deterministic(loc[1,1])]]\n",
    "constant.prob(x) "
   ]
  },
  {
   "cell_type": "code",
   "execution_count": null,
   "metadata": {},
   "outputs": [],
   "source": []
  }
 ],
 "metadata": {
  "kernelspec": {
   "display_name": "Python 3",
   "language": "python",
   "name": "python3"
  },
  "language_info": {
   "codemirror_mode": {
    "name": "ipython",
    "version": 3
   },
   "file_extension": ".py",
   "mimetype": "text/x-python",
   "name": "python",
   "nbconvert_exporter": "python",
   "pygments_lexer": "ipython3",
   "version": "3.8.5"
  }
 },
 "nbformat": 4,
 "nbformat_minor": 4
}
