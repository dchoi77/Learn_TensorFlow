{
 "cells": [
  {
   "cell_type": "markdown",
   "metadata": {},
   "source": [
    "# tfp.distributions"
   ]
  },
  {
   "cell_type": "markdown",
   "metadata": {},
   "source": [
    "## tfd.Normal"
   ]
  },
  {
   "cell_type": "code",
   "execution_count": 3,
   "metadata": {},
   "outputs": [
    {
     "name": "stdout",
     "output_type": "stream",
     "text": [
      "two samples: [4.6266284 2.802314 ]\n",
      "prob: [0.13114657 0.13298075 0.11107485]\n",
      "log_prob: [-2.0314398 -2.017551  -2.197551 ]\n",
      "cdf: [0.43381616 0.5        0.72574687]\n"
     ]
    }
   ],
   "source": [
    "import tensorflow_probability as tfp\n",
    "\n",
    "tfd = tfp.distributions\n",
    "dist = tfd.Normal(loc=1, scale=3)\n",
    "\n",
    "x = [0.5, 1., 2.8]\n",
    "print('two samples:', dist.sample(2).numpy())\n",
    "print('prob:', dist.prob(x).numpy()) \n",
    "print('log_prob:', dist.log_prob(x).numpy())\n",
    "print('cdf:', dist.cdf(x).numpy())"
   ]
  },
  {
   "cell_type": "markdown",
   "metadata": {},
   "source": [
    "### Caution on shape"
   ]
  },
  {
   "cell_type": "code",
   "execution_count": 7,
   "metadata": {},
   "outputs": [],
   "source": [
    "import numpy as np\n",
    "\n",
    "loc = np.array([0,1,2], dtype='float32').reshape((3,1))\n",
    "dist = tfd.Normal(loc=loc, scale=1.)"
   ]
  },
  {
   "cell_type": "markdown",
   "metadata": {},
   "source": [
    "`dist.batch_shape` is (3,1). \n",
    "\n",
    "Thus when we compute `dist.prob(x)`, `x.shape[0]` should be 3; otherwise, `x` is properly broadcasted."
   ]
  },
  {
   "cell_type": "code",
   "execution_count": 9,
   "metadata": {},
   "outputs": [
    {
     "data": {
      "text/plain": [
       "<tf.Tensor: shape=(3, 1), dtype=float32, numpy=\n",
       "array([[0.00013383],\n",
       "       [0.00443185],\n",
       "       [0.05399096]], dtype=float32)>"
      ]
     },
     "execution_count": 9,
     "metadata": {},
     "output_type": "execute_result"
    }
   ],
   "source": [
    "dist.prob(4)  # same as dist.prob([[4,],[4,],[4,]])"
   ]
  },
  {
   "cell_type": "code",
   "execution_count": 10,
   "metadata": {},
   "outputs": [
    {
     "data": {
      "text/plain": [
       "<tf.Tensor: shape=(3, 2), dtype=float32, numpy=\n",
       "array([[1.3383021e-04, 7.6946054e-23],\n",
       "       [4.4318479e-03, 1.0279782e-18],\n",
       "       [5.3990960e-02, 5.0522754e-15]], dtype=float32)>"
      ]
     },
     "execution_count": 10,
     "metadata": {},
     "output_type": "execute_result"
    }
   ],
   "source": [
    "dist.prob([4, 10])   \n",
    "# same as dist.prob([[4,10],[4,10],[4,10]])\n",
    "# same as tf.concat([dist.prob(4), dist.prob(10)], axis=1)"
   ]
  },
  {
   "cell_type": "code",
   "execution_count": null,
   "metadata": {},
   "outputs": [],
   "source": [
    "dist.prob([[4,],[10,]])\n",
    "# InvalidArgumentError: Incompatible shapes: [2,1] vs. [3,1] [Op:SquaredDifference]"
   ]
  },
  {
   "cell_type": "code",
   "execution_count": 11,
   "metadata": {},
   "outputs": [],
   "source": [
    "dist2 = tfd.Normal(loc=[0,1,2], scale=1)\n",
    "# dist2.batch_shape is (3,)"
   ]
  },
  {
   "cell_type": "code",
   "execution_count": 13,
   "metadata": {},
   "outputs": [
    {
     "data": {
      "text/plain": [
       "<tf.Tensor: shape=(3,), dtype=float32, numpy=array([0.00013383, 0.00443185, 0.05399096], dtype=float32)>"
      ]
     },
     "execution_count": 13,
     "metadata": {},
     "output_type": "execute_result"
    }
   ],
   "source": [
    "dist2.prob(4)    # same as dist2.prob([4,4,4])"
   ]
  },
  {
   "cell_type": "code",
   "execution_count": null,
   "metadata": {},
   "outputs": [],
   "source": [
    "dist2.prob([4, 10])\n",
    "# InvalidArgumentError: Incompatible shapes: [2] vs. [3] [Op:SquaredDifference]"
   ]
  },
  {
   "cell_type": "code",
   "execution_count": 15,
   "metadata": {},
   "outputs": [
    {
     "data": {
      "text/plain": [
       "<tf.Tensor: shape=(2, 3), dtype=float32, numpy=\n",
       "array([[1.3383021e-04, 4.4318479e-03, 5.3990960e-02],\n",
       "       [7.6946054e-23, 1.0279782e-18, 5.0522754e-15]], dtype=float32)>"
      ]
     },
     "execution_count": 15,
     "metadata": {},
     "output_type": "execute_result"
    }
   ],
   "source": [
    "dist2.prob([[4,],[10,]]) # same as dist2.prob([[4,4,4],[10,10,10]])"
   ]
  },
  {
   "cell_type": "markdown",
   "metadata": {},
   "source": [
    "## tfd.Deterministic\n",
    "\n",
    "* pmf(x; loc) = 1, if x == loc, else 0 \n",
    "* cdf(x; loc) = 1, if x >= loc, else 0 "
   ]
  },
  {
   "cell_type": "code",
   "execution_count": 5,
   "metadata": {},
   "outputs": [
    {
     "name": "stdout",
     "output_type": "stream",
     "text": [
      "1.0 0.0\n"
     ]
    }
   ],
   "source": [
    "constant = tfd.Deterministic(0.)\n",
    "    # const.prob(x) is 1 if x is 0\n",
    "    # const.prob(x) is 0 otherwise\n",
    "print(constant.prob(0.).numpy(), constant.prob(2.).numpy())"
   ]
  },
  {
   "cell_type": "code",
   "execution_count": 6,
   "metadata": {},
   "outputs": [
    {
     "data": {
      "text/plain": [
       "<tf.Tensor: shape=(2, 2), dtype=float32, numpy=\n",
       "array([[1., 0.],\n",
       "       [0., 1.]], dtype=float32)>"
      ]
     },
     "execution_count": 6,
     "metadata": {},
     "output_type": "execute_result"
    }
   ],
   "source": [
    "loc = [[0., 1.], [2., 3.]] \n",
    "x = [[0., 1.1], [1.99, 3.]] \n",
    "constant = tfd.Deterministic(loc)\n",
    "    # tfd.Deterministic(loc) is equal to \n",
    "    # [[tfd.Deterministic(loc[0,0]), tfd.Deterministic(loc[0,1])],\n",
    "    #  [tfd.Deterministic(loc[1,0]), tfd.Deterministic(loc[1,1])]]\n",
    "constant.prob(x) "
   ]
  },
  {
   "cell_type": "markdown",
   "metadata": {},
   "source": [
    "## tfd.Mixture"
   ]
  },
  {
   "cell_type": "code",
   "execution_count": 17,
   "metadata": {},
   "outputs": [
    {
     "data": {
      "text/plain": [
       "TensorShape([5])"
      ]
     },
     "execution_count": 17,
     "metadata": {},
     "output_type": "execute_result"
    }
   ],
   "source": [
    "import tensorflow as tf\n",
    "\n",
    "out = tf.random.normal((5,2))\n",
    "\n",
    "rate = tf.math.exp(out[:, 0])\n",
    "s = tf.math.sigmoid(out[:, 1:2])\n",
    "probs = tf.concat([1-s, s], axis=1)\n",
    "dist = tfd.Mixture(\n",
    "    cat = tfd.Categorical(probs=probs),\n",
    "    components = [tfd.Deterministic(loc=tf.zeros_like(rate)), tfd.Poisson(rate=rate)])\n",
    "\n",
    "dist.batch_shape"
   ]
  },
  {
   "cell_type": "markdown",
   "metadata": {},
   "source": [
    "If we use `rate` of 2D shape in the above, that is, if `rate = tf.math.exp(out[:,0:1])`, then we have the following error:\n",
    "\n",
    "ValueError: components[0] batch shape must be compatible with cat shape and other component batch shapes ((5,) vs (5, 1))"
   ]
  },
  {
   "cell_type": "code",
   "execution_count": 20,
   "metadata": {},
   "outputs": [
    {
     "ename": "ValueError",
     "evalue": "components[0] batch shape must be compatible with cat shape and other component batch shapes ((1,) vs (5, 1))",
     "output_type": "error",
     "traceback": [
      "\u001b[1;31m---------------------------------------------------------------------------\u001b[0m",
      "\u001b[1;31mValueError\u001b[0m                                Traceback (most recent call last)",
      "\u001b[1;32m<ipython-input-20-985ac291cd7a>\u001b[0m in \u001b[0;36m<module>\u001b[1;34m\u001b[0m\n\u001b[0;32m      4\u001b[0m \u001b[0ms\u001b[0m \u001b[1;33m=\u001b[0m \u001b[0mtf\u001b[0m\u001b[1;33m.\u001b[0m\u001b[0mmath\u001b[0m\u001b[1;33m.\u001b[0m\u001b[0msigmoid\u001b[0m\u001b[1;33m(\u001b[0m\u001b[0mout\u001b[0m\u001b[1;33m[\u001b[0m\u001b[1;33m:\u001b[0m\u001b[1;33m,\u001b[0m \u001b[1;36m1\u001b[0m\u001b[1;33m:\u001b[0m\u001b[1;36m2\u001b[0m\u001b[1;33m]\u001b[0m\u001b[1;33m)\u001b[0m\u001b[1;33m\u001b[0m\u001b[1;33m\u001b[0m\u001b[0m\n\u001b[0;32m      5\u001b[0m \u001b[0mprobs\u001b[0m \u001b[1;33m=\u001b[0m \u001b[0mtf\u001b[0m\u001b[1;33m.\u001b[0m\u001b[0mtranspose\u001b[0m\u001b[1;33m(\u001b[0m\u001b[0ms\u001b[0m\u001b[1;33m)\u001b[0m\u001b[1;33m\u001b[0m\u001b[1;33m\u001b[0m\u001b[0m\n\u001b[1;32m----> 6\u001b[1;33m dist = tfd.Mixture(\n\u001b[0m\u001b[0;32m      7\u001b[0m     \u001b[0mcat\u001b[0m \u001b[1;33m=\u001b[0m \u001b[0mtfd\u001b[0m\u001b[1;33m.\u001b[0m\u001b[0mCategorical\u001b[0m\u001b[1;33m(\u001b[0m\u001b[0mprobs\u001b[0m\u001b[1;33m=\u001b[0m\u001b[0mprobs\u001b[0m\u001b[1;33m)\u001b[0m\u001b[1;33m,\u001b[0m\u001b[1;33m\u001b[0m\u001b[1;33m\u001b[0m\u001b[0m\n\u001b[0;32m      8\u001b[0m     components = [tfd.Deterministic(loc=tf.zeros_like(rate)), tfd.Poisson(rate=rate)])\n",
      "\u001b[1;32m<decorator-gen-367>\u001b[0m in \u001b[0;36m__init__\u001b[1;34m(self, cat, components, validate_args, allow_nan_stats, use_static_graph, name)\u001b[0m\n",
      "\u001b[1;32m~\\Anaconda3\\lib\\site-packages\\tensorflow_probability\\python\\distributions\\distribution.py\u001b[0m in \u001b[0;36mwrapped_init\u001b[1;34m(***failed resolving arguments***)\u001b[0m\n\u001b[0;32m    332\u001b[0m       \u001b[1;31m# called, here is the place to do it.\u001b[0m\u001b[1;33m\u001b[0m\u001b[1;33m\u001b[0m\u001b[1;33m\u001b[0m\u001b[0m\n\u001b[0;32m    333\u001b[0m       \u001b[0mself_\u001b[0m\u001b[1;33m.\u001b[0m\u001b[0m_parameters\u001b[0m \u001b[1;33m=\u001b[0m \u001b[1;32mNone\u001b[0m\u001b[1;33m\u001b[0m\u001b[1;33m\u001b[0m\u001b[0m\n\u001b[1;32m--> 334\u001b[1;33m       \u001b[0mdefault_init\u001b[0m\u001b[1;33m(\u001b[0m\u001b[0mself_\u001b[0m\u001b[1;33m,\u001b[0m \u001b[1;33m*\u001b[0m\u001b[0margs\u001b[0m\u001b[1;33m,\u001b[0m \u001b[1;33m**\u001b[0m\u001b[0mkwargs\u001b[0m\u001b[1;33m)\u001b[0m\u001b[1;33m\u001b[0m\u001b[1;33m\u001b[0m\u001b[0m\n\u001b[0m\u001b[0;32m    335\u001b[0m       \u001b[1;31m# Note: if we ever want to override things set in `self` by subclass\u001b[0m\u001b[1;33m\u001b[0m\u001b[1;33m\u001b[0m\u001b[1;33m\u001b[0m\u001b[0m\n\u001b[0;32m    336\u001b[0m       \u001b[1;31m# `__init__`, here is the place to do it.\u001b[0m\u001b[1;33m\u001b[0m\u001b[1;33m\u001b[0m\u001b[1;33m\u001b[0m\u001b[0m\n",
      "\u001b[1;32m~\\Anaconda3\\lib\\site-packages\\tensorflow_probability\\python\\distributions\\mixture.py\u001b[0m in \u001b[0;36m__init__\u001b[1;34m(self, cat, components, validate_args, allow_nan_stats, use_static_graph, name)\u001b[0m\n\u001b[0;32m    153\u001b[0m         if not tensorshape_util.is_compatible_with(static_batch_shape,\n\u001b[0;32m    154\u001b[0m                                                    d.batch_shape):\n\u001b[1;32m--> 155\u001b[1;33m           raise ValueError(\n\u001b[0m\u001b[0;32m    156\u001b[0m               \u001b[1;34m'components[{}] batch shape must be compatible with cat '\u001b[0m\u001b[1;33m\u001b[0m\u001b[1;33m\u001b[0m\u001b[0m\n\u001b[0;32m    157\u001b[0m               'shape and other component batch shapes ({} vs {})'.format(\n",
      "\u001b[1;31mValueError\u001b[0m: components[0] batch shape must be compatible with cat shape and other component batch shapes ((1,) vs (5, 1))"
     ]
    }
   ],
   "source": [
    "out = tf.random.normal((5,2))\n",
    "\n",
    "rate = tf.math.exp(out[:, 0:1])\n",
    "s = tf.math.sigmoid(out[:, 1:2])\n",
    "probs = tf.concat([1-s, s], axis=1)\n",
    "dist = tfd.Mixture(\n",
    "    cat = tfd.Categorical(probs=probs),\n",
    "    components = [tfd.Deterministic(loc=tf.zeros_like(rate)), tfd.Poisson(rate=rate)])\n",
    "\n",
    "dist.batch_shape"
   ]
  }
 ],
 "metadata": {
  "kernelspec": {
   "display_name": "Python 3",
   "language": "python",
   "name": "python3"
  },
  "language_info": {
   "codemirror_mode": {
    "name": "ipython",
    "version": 3
   },
   "file_extension": ".py",
   "mimetype": "text/x-python",
   "name": "python",
   "nbconvert_exporter": "python",
   "pygments_lexer": "ipython3",
   "version": "3.8.5"
  }
 },
 "nbformat": 4,
 "nbformat_minor": 4
}
