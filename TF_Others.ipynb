{
 "cells": [
  {
   "cell_type": "markdown",
   "metadata": {},
   "source": [
    "# Callback functions\n",
    "\n",
    "## Callback.on_train_batch_end() \n",
    "\n",
    "References: https://www.tensorflow.org/tutorials/images/transfer_learning_with_hub\n",
    "\n",
    "Callback to log the metrics of each batch, instead of the epoch average:\n",
    "\n",
    "```python\n",
    "class CollectBatchStats(tf.keras.callbacks.Callback):\n",
    "  def __init__(self):\n",
    "    self.batch_losses = []\n",
    "    self.batch_acc = []\n",
    "\n",
    "  def on_train_batch_end(self, batch, logs=None):\n",
    "    self.batch_losses.append(logs['loss'])\n",
    "    self.batch_acc.append(logs['acc'])\n",
    "    self.model.reset_metrics()\n",
    "    \n",
    "batch_stats_callback = CollectBatchStats()\n",
    "\n",
    "history = model.fit(..., epochs=epochs, steps_per_epoch=steps_per_epoch, callbacks = [batch_stats_callback])\n",
    "\n",
    "plt.figure()\n",
    "plt.ylabel(\"Loss\")\n",
    "plt.xlabel(\"Training Steps\")\n",
    "plt.ylim([0,2])\n",
    "plt.plot(batch_stats_callback.batch_losses)\n",
    "```\n",
    "\n",
    "* batch_stats_callback.batch_losses and batch_stats_callback.batch_acc are lists of length steps_per_epoch, resp.\n",
    "* history.history\\['acc'\\] and history.history\\['loss'\\] are lists of length epochs, resp.\n",
    "\n",
    "\n",
    "## ModelCheckpoint\n",
    "\n",
    "References: https://www.tensorflow.org/tutorials/text/text_generation\n",
    "\n",
    "```python\n",
    "\n",
    "model = build_model(vocab_size, embedding_dim, rnn_units, batch_size=64) # a function building a model\n",
    "\n",
    "checkpoint_dir = './training_checkpoints'\n",
    "checkpoint_prefix = os.path.join(checkpoint_dir, \"ckpt_{epoch}\")\n",
    "checkpoint_callback = tf.keras.callbacks.ModelCheckpoint(filepath=checkpoint_prefix, save_weights_only=True)\n",
    "\n",
    "history = model.fit(..., callbacks=[checkpoint_callback])\n",
    "\n",
    "model1 = build_model(vocab_size, embedding_dim, rnn_units, batch_size=1)\n",
    "model1.load_weights(tf.train.latest_checkpoint(checkpoint_dir))\n",
    "model1.build(tf.TensorShape([1, None]))\n",
    "```"
   ]
  },
  {
   "cell_type": "markdown",
   "metadata": {},
   "source": [
    "# Save and Load a model\n",
    "\n",
    "References: https://www.tensorflow.org/tutorials/images/transfer_learning_with_hub\n",
    "\n",
    "```python\n",
    "import time\n",
    "t = time.time()\n",
    "\n",
    "export_path = \"/tmp/saved_models/{}\".format(int(t))\n",
    "model.save(export_path, save_format='tf')\n",
    "\n",
    "reloaded = tf.keras.models.load_model(export_path)\n",
    "```"
   ]
  },
  {
   "cell_type": "markdown",
   "metadata": {},
   "source": [
    "# Convolutions\n",
    "\n",
    "## Conv2DTranspose()\n",
    "\n",
    "* If `x` is a tensor of shape (a,b,c), then `Conv2DTranspose(n, 3, strides=2, padding='same')(x)` returns a tensor of shape (2a,2b,n)."
   ]
  }
 ],
 "metadata": {
  "kernelspec": {
   "display_name": "Python 3",
   "language": "python",
   "name": "python3"
  },
  "language_info": {
   "codemirror_mode": {
    "name": "ipython",
    "version": 3
   },
   "file_extension": ".py",
   "mimetype": "text/x-python",
   "name": "python",
   "nbconvert_exporter": "python",
   "pygments_lexer": "ipython3",
   "version": "3.7.7"
  }
 },
 "nbformat": 4,
 "nbformat_minor": 2
}
